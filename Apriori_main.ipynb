{
 "cells": [
  {
   "cell_type": "markdown",
   "source": [
    "# Copying Apriori Algo "
   ],
   "metadata": {
    "collapsed": false
   },
   "id": "b9205867c8a65c87"
  },
  {
   "cell_type": "code",
   "execution_count": 90,
   "outputs": [],
   "source": [
    "from collections import defaultdict  # if key unregistered instead of returning KeyError return 0.\n",
    "# blank for imports\n",
    "from itertools import chain, combinations"
   ],
   "metadata": {
    "collapsed": false,
    "ExecuteTime": {
     "end_time": "2023-08-12T17:19:07.396208100Z",
     "start_time": "2023-08-12T17:19:07.366671200Z"
    }
   },
   "id": "c2492457261cb147"
  },
  {
   "cell_type": "code",
   "execution_count": 91,
   "outputs": [],
   "source": [
    "def subsets(arr):\n",
    "    \"\"\" Returns non-empty subsets of arr\"\"\"\n",
    "    return chain(\n",
    "        *[combinations(arr, i + 1) for i, a in enumerate(arr)])  # Σ{k=1->n}(C(n,k)) = Σ{k=1->n} ( n! / (k! * (n-k)! )\n",
    "\n",
    "\n",
    "def getItemSetTransactionList(data_iterator):\n",
    "    \"\"\" Transaction list is the list of records of the data (csv)\"\"\"\n",
    "    transactionList = list()\n",
    "    itemSet = set()\n",
    "    for record in data_iterator:\n",
    "        transaction = frozenset(record)\n",
    "        transactionList.append(transaction)\n",
    "        for item in transaction:\n",
    "            itemSet.add(frozenset([item]))  # Generate 1-itemSets\n",
    "    return itemSet, transactionList\n",
    "\n",
    "\n",
    "def returnItemsWithMinSupport(itemSet, transactionList, minSupport, freqSet):\n",
    "    \"\"\" Calculates the support for items in the itemSet and returns a subset of the\n",
    "        itemSet each of whose elements satisfies the minimum support\"\"\"\n",
    "    _itemSet = set()\n",
    "    localSet = defaultdict(int)\n",
    "\n",
    "    for item in itemSet:\n",
    "        for transaction in transactionList:\n",
    "            if item.issubset(transaction):  # we use is subset cause item could be a set\n",
    "                freqSet[item] += 1\n",
    "                localSet[item] += 1\n",
    "\n",
    "    for item, count in localSet.items():\n",
    "        support = float(count) / len(transactionList)\n",
    "\n",
    "        if support >= minSupport:\n",
    "            _itemSet.add(item)\n",
    "\n",
    "    return _itemSet\n",
    "\n",
    "\n",
    "def joinSet(itemSet: set, length: int) -> set:\n",
    "    \"\"\" Join a set with itself and returns an n-element itemSet\"\"\"\n",
    "    return set([i.union(j) for i in itemSet for j in itemSet if len(i.union(j)) == length])"
   ],
   "metadata": {
    "collapsed": false,
    "ExecuteTime": {
     "end_time": "2023-08-12T17:19:07.584264700Z",
     "start_time": "2023-08-12T17:19:07.518755700Z"
    }
   },
   "id": "b62503747f7e6dd4"
  },
  {
   "cell_type": "code",
   "execution_count": 92,
   "outputs": [
    {
     "name": "stdout",
     "output_type": "stream",
     "text": [
      "                                         Opening Hours          Category\n",
      "0    Tuesday: [11 AM-11 PM], Wednesday: [11 AM-11 P...   Food & Beverage\n",
      "1    Tuesday: [8 AM-8 PM], Wednesday: [8 AM-8 PM], ...   Food & Beverage\n",
      "2    Tuesday: [10 AM-2 AM], Wednesday: [10 AM-2 AM]...  Bars & Nightlife\n",
      "3    Tuesday: [8:30 AM-8:30 PM], Wednesday: [8:30 A...   Food & Beverage\n",
      "4    Tuesday: [10 AM-6 PM], Wednesday: [10 AM-6 PM]...   Food & Beverage\n",
      "..                                                 ...               ...\n",
      "239  Friday: [8 AM-1 AM], Saturday: [8 AM-1 AM], Su...   Food & Beverage\n",
      "240  Friday: [12-11 PM], Saturday: [12-11 PM], Sund...   Food & Beverage\n",
      "241  Friday: [12 PM-12 AM], Saturday: [12 PM-12 AM]...   Food & Beverage\n",
      "242  Friday: [9 AM-12 AM], Saturday: [9 AM-12 AM], ...   Food & Beverage\n",
      "243  Friday: [12 PM-12 AM], Saturday: [12 PM-12 AM]...   Food & Beverage\n",
      "\n",
      "[225 rows x 2 columns]\n"
     ]
    }
   ],
   "source": [
    "\"\"\"# =========================================================================================== #\n",
    "# data_iter = frozenset(['beer', 'rice', 'beer'])\n",
    "# for i in subsets(data_iter):\n",
    "#     print(i)\"\"\"\n",
    "import pandas as pd\n",
    "from pprint import pprint\n",
    "\n",
    "# data = pd.read_csv(\"git_apriori/Apriori-python3/tesco.csv\", header=None)\n",
    "\n",
    "data = pd.read_csv('vac_data/vacadays_simple.csv')\n",
    "\n",
    "\"\"\"print(\"Header:\", list(data.columns))\n",
    "print(\"First row:\");print( data.iloc[0])\n",
    "print(\"First Row without headers\")\n",
    "print(\"\\t\".join(map(str, data.iloc[0])))\n",
    "print(\"=\"*2**6)\"\"\"\n",
    "data = data[['Opening Hours', 'Category']]\n",
    "data = data.dropna()  # we want a pair so nan means there is no pair so useless\n",
    "print(data)"
   ],
   "metadata": {
    "collapsed": false,
    "ExecuteTime": {
     "end_time": "2023-08-12T17:19:07.800309600Z",
     "start_time": "2023-08-12T17:19:07.764738300Z"
    }
   },
   "id": "b304253436c16c5"
  },
  {
   "cell_type": "code",
   "execution_count": 114,
   "outputs": [
    {
     "ename": "SyntaxError",
     "evalue": "invalid syntax (1508454646.py, line 74)",
     "output_type": "error",
     "traceback": [
      "\u001B[1;36m  Cell \u001B[1;32mIn[114], line 74\u001B[1;36m\u001B[0m\n\u001B[1;33m    σαε φαιλ\u001B[0m\n\u001B[1;37m        ^\u001B[0m\n\u001B[1;31mSyntaxError\u001B[0m\u001B[1;31m:\u001B[0m invalid syntax\n"
     ]
    }
   ],
   "source": [
    "\"\"\"row = data.iloc[0].values[0]\n",
    "row = row.replace('\\u202f', '')\n",
    "row\"\"\"\n",
    "timetable_data = []\n",
    "for i, row in data.iterrows():\n",
    "    cleaned_str = (row.values[0].replace('\\u202f', '')\n",
    "                   .replace('[', '').replace(']', ''))\n",
    "    slots = cleaned_str.split(', ')\n",
    "    timetable_data.append(slots)\n",
    "\n",
    "stores = {}\n",
    "import dateutil.parser\n",
    "\n",
    "\n",
    "def pair_to_24(open_hours: str) -> str:\n",
    "    if open_hours == 'Closed':\n",
    "        return 'Closed'\n",
    "    elif open_hours == 'Open 24 hours':\n",
    "        return 'Open 24 hours'\n",
    "    else:\n",
    "        res = ''\n",
    "        try:\n",
    "            am_to_24 = lambda am_time: str(dateutil.parser.parse(am_time).hour)\n",
    "            start, end = open_hours.split('-')\n",
    "            end = am_to_24(end)\n",
    "            start = am_to_24(start)\n",
    "            res += start + '-' + end\n",
    "        except Exception as e:\n",
    "            return 'wrong_input' + open_hours\n",
    "    return res\n",
    "\n",
    "\n",
    "def get_times_of_day(time_range):\n",
    "    \"\"\"Gets the times of day for a given time range.\n",
    "  \n",
    "    Args:\n",
    "      time_range: The time range in the format \"start_time-end_time\".\n",
    "  \n",
    "    Returns:\n",
    "      A list of the times of day for the given time range.\n",
    "    \"\"\"\n",
    "\n",
    "    start_time, end_time = time_range.split(\"-\")\n",
    "\n",
    "    start_hour = int(start_time[0:2])\n",
    "    end_hour = int(end_time[0:2])\n",
    "\n",
    "    times_of_day = []\n",
    "\n",
    "    if start_hour <= 6 and end_hour <= 6:\n",
    "        times_of_day.append(\"night\")\n",
    "    elif start_hour <= 12 and end_hour <= 12:\n",
    "        times_of_day.append(\"morning\")\n",
    "    else:\n",
    "        times_of_day.append(\"evening\")\n",
    "\n",
    "    if len(times_of_day) > 1:\n",
    "        if \"evening\" in times_of_day and \"morning\" in times_of_day:\n",
    "            times_of_day = [\"both evening and morning\"]\n",
    "\n",
    "    return times_of_day\n",
    "\n",
    "for store, store_timetable in enumerate(timetable_data):\n",
    "    timetable = {}\n",
    "    for slot in store_timetable:\n",
    "        day, open_hours = slot.split(': ')\n",
    "\n",
    "        timetable[day] = get_times_of_day(pair_to_24(open_hours))\n",
    "    stores[store] = timetable\n",
    "\n",
    "\n",
    "pprint(stores)\n",
    "\n",
    "σαε φαιλ\n",
    "ψες φαιλ\n",
    "φιλοσοφια φαιλ\n",
    "λειτουεγικα 9\n",
    "βασεις πασσ\n",
    "τν πασσ\n",
    "εργαστηριο 7\n",
    "αρχιτεκτονική πασσ\n",
    "εφαρμο 7\n"
   ],
   "metadata": {
    "collapsed": false,
    "ExecuteTime": {
     "end_time": "2023-08-12T17:57:38.931917400Z",
     "start_time": "2023-08-12T17:57:38.803001200Z"
    }
   },
   "id": "e4f46b7bfae3299f"
  },
  {
   "cell_type": "code",
   "execution_count": null,
   "outputs": [],
   "source": [],
   "metadata": {
    "collapsed": false
   },
   "id": "4d6e9199777e101b"
  },
  {
   "cell_type": "code",
   "execution_count": null,
   "outputs": [],
   "source": [],
   "metadata": {
    "collapsed": false
   },
   "id": "223e7b79193a57a6"
  },
  {
   "cell_type": "code",
   "execution_count": 103,
   "outputs": [
    {
     "name": "stdout",
     "output_type": "stream",
     "text": [
      "10-16\n"
     ]
    }
   ],
   "source": [
    "\n",
    "\n",
    "    "
   ],
   "metadata": {
    "collapsed": false,
    "ExecuteTime": {
     "end_time": "2023-08-12T17:34:11.072363400Z",
     "start_time": "2023-08-12T17:34:11.028318900Z"
    }
   },
   "id": "c237b6ba4bf63347"
  },
  {
   "cell_type": "code",
   "execution_count": 30,
   "outputs": [
    {
     "ename": "AttributeError",
     "evalue": "'list' object has no attribute 'replace'",
     "output_type": "error",
     "traceback": [
      "\u001B[1;31m---------------------------------------------------------------------------\u001B[0m",
      "\u001B[1;31mAttributeError\u001B[0m                            Traceback (most recent call last)",
      "Cell \u001B[1;32mIn[30], line 4\u001B[0m\n\u001B[0;32m      2\u001B[0m \u001B[38;5;28;01mfor\u001B[39;00m i, row \u001B[38;5;129;01min\u001B[39;00m data\u001B[38;5;241m.\u001B[39miterrows():\n\u001B[0;32m      3\u001B[0m     record \u001B[38;5;241m=\u001B[39m [item \u001B[38;5;28;01mfor\u001B[39;00m item \u001B[38;5;129;01min\u001B[39;00m row\u001B[38;5;241m.\u001B[39mvalues[\u001B[38;5;241m0\u001B[39m] \u001B[38;5;28;01mif\u001B[39;00m \u001B[38;5;129;01mnot\u001B[39;00m pd\u001B[38;5;241m.\u001B[39misna(item)]\n\u001B[1;32m----> 4\u001B[0m     no_nan_data\u001B[38;5;241m.\u001B[39mappend(\u001B[43mrecord\u001B[49m\u001B[38;5;241;43m.\u001B[39;49m\u001B[43mreplace\u001B[49m(\u001B[38;5;124m'\u001B[39m\u001B[38;5;130;01m\\u202f\u001B[39;00m\u001B[38;5;124m'\u001B[39m, \u001B[38;5;124m'\u001B[39m\u001B[38;5;124m'\u001B[39m))\n\u001B[0;32m      5\u001B[0m     \u001B[38;5;28mprint\u001B[39m(i, record)\n\u001B[0;32m      7\u001B[0m itemSet, tranList \u001B[38;5;241m=\u001B[39m getItemSetTransactionList(no_nan_data)\n",
      "\u001B[1;31mAttributeError\u001B[0m: 'list' object has no attribute 'replace'"
     ]
    }
   ],
   "source": [
    "no_nan_data = []\n",
    "for i, row in data.iterrows():\n",
    "    record = [item for item in row.values if not pd.isna(item)]\n",
    "    no_nan_data.append(record)\n",
    "    print(i, record)\n",
    "\n",
    "itemSet, tranList = getItemSetTransactionList(no_nan_data)\n",
    "# pprint(itemSet)\n",
    "# pprint(tranList)"
   ],
   "metadata": {
    "collapsed": false,
    "ExecuteTime": {
     "end_time": "2023-08-12T16:00:49.478459Z",
     "start_time": "2023-08-12T16:00:49.453534Z"
    }
   },
   "id": "8166455f902c796b"
  },
  {
   "cell_type": "code",
   "execution_count": 5,
   "outputs": [],
   "source": [
    "def runApriori(data_iter, minSupport, minConfidence):\n",
    "    \"\"\"\n",
    "    run the apriori algorithm. data_iter is a record iterator\n",
    "    :return: \n",
    "        - items (tuple, support)\n",
    "        - rules ((pre-tuple, post-tuple), confidence)\n",
    "    \"\"\"\n",
    "    itemSet, transactionList = getItemSetTransactionList(data_iter)\n",
    "\n",
    "    freqSet = defaultdict(int)\n",
    "    largeSet = dict()\n",
    "    # Global dictionary which stores (key = n-itemSets, value=support) which satisfy minSupport\n",
    "\n",
    "    assocRules = dict()  # Dict which stores Association Rules\n",
    "\n",
    "    # has single elements no sets that achieve minimum support\n",
    "    oneCSet = returnItemsWithMinSupport(itemSet, transactionList, minSupport, freqSet)\n",
    "\n",
    "    currentLSet = oneCSet\n",
    "    k = 2\n",
    "    while currentLSet != set([]):\n",
    "        largeSet[k - 1] = currentLSet\n",
    "        currentLSet = joinSet(currentLSet, k)\n",
    "        currentCSet = returnItemsWithMinSupport(currentLSet, transactionList, minSupport, freqSet)\n",
    "        currentLSet = currentCSet\n",
    "        k += 1\n",
    "\n",
    "    # Local function which Returns the support of an item { P(X) = n(X) / n(D) }\n",
    "    getSupport = lambda item: float(freqSet[item]) / len(transactionList)\n",
    "\n",
    "    toRetItems = []\n",
    "    for key, value in largeSet.items():\n",
    "        # The reason we get item in tuple is that again item can be a set of items\n",
    "        toRetItems.extend([(tuple(item), getSupport(item)) for item in value])\n",
    "\n",
    "    # NOW THE SECOND PART: THE RULES\n",
    "\n",
    "    toRetRules = []\n",
    "    for key, value in list(largeSet.items())[1:]:  # why not the first one?\n",
    "        for item in value:\n",
    "            _subsets = map(frozenset, [x for x in subsets(item)])\n",
    "            for element in _subsets:\n",
    "                remain = item.difference(element)  # create and check all possible antecedents \n",
    "                if len(remain) > 0:\n",
    "                    # confidence = the proportion of the number of instances to which the rule applies\n",
    "                    # The probability that a consequence will occur if the antecedent occurs: Conf(X->Y) = P(Y/X) = P(X U Y) / P(X)\n",
    "                    confidence = getSupport(item) / getSupport(element)\n",
    "                    if confidence >= minConfidence:\n",
    "                        toRetRules.append(((tuple(element), tuple(remain)), confidence))\n",
    "\n",
    "    return toRetItems, toRetRules\n"
   ],
   "metadata": {
    "collapsed": false,
    "ExecuteTime": {
     "end_time": "2023-08-12T15:45:50.050238100Z",
     "start_time": "2023-08-12T15:45:50.040247200Z"
    }
   },
   "id": "864923092ceb1ed8"
  },
  {
   "cell_type": "code",
   "execution_count": 9,
   "outputs": [
    {
     "name": "stdout",
     "output_type": "stream",
     "text": [
      "[(('Bar',), 0.13247863247863248),\n",
      " (('Museums & Sightseeing',), 0.13247863247863248),\n",
      " (('Bars & Nightlife',), 0.2264957264957265),\n",
      " (('Restaurant',), 0.20512820512820512),\n",
      " (('Food & Beverage',), 0.5598290598290598),\n",
      " (('All Day',), 0.15384615384615385),\n",
      " (('Food & Beverage', 'Restaurant'), 0.20085470085470086),\n",
      " (('Bar', 'Bars & Nightlife'), 0.13247863247863248)]\n",
      "\n",
      "\n",
      "[((('Bar',), ('Bars & Nightlife',)), 1.0)]\n"
     ]
    }
   ],
   "source": [
    "items, rules = runApriori(no_nan_data, 0.1, 1)\n",
    "pprint(items)\n",
    "print()\n",
    "print()\n",
    "pprint(rules)"
   ],
   "metadata": {
    "collapsed": false,
    "ExecuteTime": {
     "end_time": "2023-08-12T15:46:04.430494400Z",
     "start_time": "2023-08-12T15:46:04.385953900Z"
    }
   },
   "id": "98f1563e9fac66d7"
  },
  {
   "cell_type": "code",
   "execution_count": null,
   "outputs": [],
   "source": [],
   "metadata": {
    "collapsed": false
   },
   "id": "fc827d697ae2d6d"
  }
 ],
 "metadata": {
  "kernelspec": {
   "display_name": "Python 3",
   "language": "python",
   "name": "python3"
  },
  "language_info": {
   "codemirror_mode": {
    "name": "ipython",
    "version": 2
   },
   "file_extension": ".py",
   "mimetype": "text/x-python",
   "name": "python",
   "nbconvert_exporter": "python",
   "pygments_lexer": "ipython2",
   "version": "2.7.6"
  }
 },
 "nbformat": 4,
 "nbformat_minor": 5
}
