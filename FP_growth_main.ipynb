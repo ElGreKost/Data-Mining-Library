{
 "cells": [
  {
   "cell_type": "code",
   "execution_count": 2,
   "id": "69ba81090c0ffdd3",
   "metadata": {
    "collapsed": true,
    "ExecuteTime": {
     "end_time": "2023-08-12T14:17:18.921010500Z",
     "start_time": "2023-08-12T14:17:18.898473100Z"
    }
   },
   "outputs": [],
   "source": [
    "import logging\n",
    "import multiprocessing\n",
    "from collections import defaultdict"
   ]
  },
  {
   "cell_type": "code",
   "execution_count": 3,
   "outputs": [],
   "source": [
    "class Node():\n",
    "    def __init__(self, item, count=0):\n",
    "        self.item = item\n",
    "        self.count = count\n",
    "        self.parent = None\n",
    "        self.children = {}  # dict (item, Node)\n",
    "\n",
    "    def __str__(self):\n",
    "        if self.item is not None:\n",
    "            s = 'item: {} count: {}  '.format(self.item, self.count)\n",
    "        else:\n",
    "            s = 'root \\n'\n",
    "        s += 'children: '\n",
    "        for child in self.children:\n",
    "            s += str(child) + ' '\n",
    "\n",
    "        return s"
   ],
   "metadata": {
    "collapsed": false,
    "ExecuteTime": {
     "end_time": "2023-08-12T14:17:19.016888600Z",
     "start_time": "2023-08-12T14:17:19.006377700Z"
    }
   },
   "id": "initial_id"
  },
  {
   "cell_type": "code",
   "execution_count": 4,
   "outputs": [],
   "source": [
    "class FPTree():\n",
    "    def __init__(self):\n",
    "        # dict[item] = [Node1, Node2...]\n",
    "        # header_table dict stores a linked list for every item that has minimum\n",
    "        #   support so that we can use it for big itemset generation later.\n",
    "        self.header_table = {}\n",
    "        self.item_counter = {}\n",
    "        self.root = Node(None)\n",
    "\n",
    "    def add_tran(self, tran, weight=1):\n",
    "        ptr = self.root\n",
    "        for item in tran:\n",
    "            if item in ptr.children:\n",
    "                ptr.children[item].count += weight\n",
    "                self.item_counter[item] += weight\n",
    "                # we move down to the current node because the descending ordering\n",
    "                #   forces next item from the transaction to be placed beneath it.\n",
    "                ptr = ptr.children[item]\n",
    "            else:\n",
    "                new_node = Node(item, weight)\n",
    "                new_node.parent = ptr\n",
    "                ptr.children[item] = new_node\n",
    "                if item in self.header_table:\n",
    "                    self.header_table[item].append(new_node)\n",
    "                    self.item_counter[item] += weight\n",
    "                else:\n",
    "                    self.header_table[item] = [new_node]\n",
    "                    self.item_counter[item] = weight\n",
    "                ptr = new_node\n",
    "\n",
    "        return\n",
    "\n",
    "    def mine(self, min_cnt=1): \n",
    "        \"\"\"\n",
    "        return:\n",
    "            [list of frequent patterns, list of fp count]\n",
    "        \"\"\"\n",
    "        fp, fp_count = [], []\n",
    "        for item in self.header_table:\n",
    "            if self.item_counter[item] >= min_cnt:\n",
    "                \n",
    "                # FIRST PART: LOOKING ON ORIGINAL TREE\n",
    "                fp.append([item])\n",
    "                fp_count.append(self.item_counter[item]) \n",
    "                \n",
    "                # SECOND PART: LOOKING IN CONDITIONAL TREE (RECURSIVELY)\n",
    "                cond_trans, weights = self.get_conditional_tran(item, min_cnt)\n",
    "                cond_tree = FPTree()\n",
    "                for tran, weight in zip(cond_trans, weights):\n",
    "                    assert item not in tran, (item, tran, weight)\n",
    "                    cond_tree.add_tran(tran, weight)\n",
    "                cond_fp, cond_fp_count = cond_tree.mine(min_cnt)\n",
    "                if cond_fp: # Append the item that the tree is conditioned upon.\n",
    "                    cond_fp = [i + [item] for i in cond_fp]\n",
    "                    fp += cond_fp   # Append the produced item list in the original\n",
    "                    fp_count += cond_fp_count\n",
    "\n",
    "        assert len(fp) == len(fp_count) # just a check \n",
    "        if fp:\n",
    "            fp = [sorted(i) for i in fp]\n",
    "            tmp = list(zip(fp, fp_count))\n",
    "            tmp = sorted(tmp, key=lambda x: (len(x[0]), x[0]))\n",
    "            fp, fp_count = list(zip(*tmp))\n",
    "\n",
    "        return fp, fp_count\n",
    "\n",
    "    def get_conditional_tran(self, item, min_cnt=1):\n",
    "        \"\"\"\n",
    "        item: excluding item\n",
    "        return:\n",
    "        [list of items, list of weight]\n",
    "        \"\"\"\n",
    "        trans, weights = [], []\n",
    "        for node in self.header_table[item]:\n",
    "            # if node.count >= min_cnt:\n",
    "            tmp_tran = []\n",
    "            ptr = node.parent\n",
    "            # while ptr.item: // wrong when item == 0\n",
    "            while ptr.item != None:\n",
    "                tmp_tran.append(ptr.item)\n",
    "                ptr = ptr.parent\n",
    "            if tmp_tran:\n",
    "                trans.append(tmp_tran.reverse())\n",
    "                weights.append(node.count)\n",
    "\n",
    "        return trans, weights\n",
    "\n",
    "    def print_tree(self):\n",
    "        l = [self.root]\n",
    "        while l:\n",
    "            next_l = []\n",
    "            for node in l:\n",
    "                print(node)\n",
    "                next_l += node.children.values()\n",
    "            l = next_l\n",
    "            print('----------------------------------') "
   ],
   "metadata": {
    "collapsed": false,
    "ExecuteTime": {
     "start_time": "2023-08-12T14:17:19.153498900Z"
    }
   },
   "id": "f986442f34e7a87c"
  },
  {
   "cell_type": "markdown",
   "source": [
    "## Testing the construction and mining process"
   ],
   "metadata": {
    "collapsed": false
   },
   "id": "2e2ffc8f9aff493d"
  },
  {
   "cell_type": "code",
   "execution_count": 37,
   "outputs": [
    {
     "name": "stdout",
     "output_type": "stream",
     "text": [
      "(['Yes', 'False', 'Normal', 'Mild'],\n",
      " ['Yes', 'False', 'High', 'Mild'],\n",
      " ['Yes', 'Normal', 'True', 'Mild'],\n",
      " ['Yes', 'High', 'True', 'Mild'],\n",
      " ['Yes', 'False', 'Normal'],\n",
      " ['Yes', 'False', 'Normal'],\n",
      " ['Yes', 'False', 'Normal'],\n",
      " ['Yes', 'False', 'High'],\n",
      " ['Yes', 'Normal', 'True'],\n",
      " ['False', 'High', 'Mild'],\n",
      " ['High', 'True', 'Mild'],\n",
      " ['False', 'High'],\n",
      " ['Normal', 'True'],\n",
      " ['High', 'True'])\n",
      "root \n",
      "children: Yes False High Normal \n",
      "----------------------------------\n",
      "item: Yes count: 9  children: False Normal High \n",
      "item: False count: 2  children: High \n",
      "item: High count: 2  children: True \n",
      "item: Normal count: 1  children: True \n",
      "----------------------------------\n",
      "item: False count: 6  children: Normal High \n",
      "item: Normal count: 2  children: True \n",
      "item: High count: 1  children: True \n",
      "item: High count: 2  children: Mild \n",
      "item: True count: 2  children: Mild \n",
      "item: True count: 1  children: \n",
      "----------------------------------\n",
      "item: Normal count: 4  children: Mild \n",
      "item: High count: 2  children: Mild \n",
      "item: True count: 2  children: Mild \n",
      "item: True count: 1  children: Mild \n",
      "item: Mild count: 1  children: \n",
      "item: Mild count: 1  children: \n",
      "----------------------------------\n",
      "item: Mild count: 1  children: \n",
      "item: Mild count: 1  children: \n",
      "item: Mild count: 1  children: \n",
      "item: Mild count: 1  children: \n",
      "----------------------------------\n"
     ]
    },
    {
     "data": {
      "text/plain": "((['False'],\n  ['High'],\n  ['Mild'],\n  ['Normal'],\n  ['True'],\n  ['Yes'],\n  ['False', 'Yes'],\n  ['Normal', 'Yes']),\n (8, 7, 6, 7, 6, 9, 6, 6))"
     },
     "execution_count": 37,
     "metadata": {},
     "output_type": "execute_result"
    }
   ],
   "source": [
    "import pandas as pd\n",
    "from pprint import pprint\n",
    "\n",
    "df = pd.read_csv('weather.csv', dtype={'Windy': str})\n",
    "\n",
    "transactions = df.values.tolist()\n",
    "# count and sort\n",
    "counter = defaultdict(int)\n",
    "min_cnt = 6\n",
    "\n",
    "#     if n_jobs == 1:\n",
    "if True:\n",
    "    for tran in transactions:\n",
    "        for item in tran:\n",
    "            counter[item] += 1\n",
    "frequent_item = [(item, counter[item]) for item in counter if counter[item] >= min_cnt]\n",
    "supported_items = list(zip(*frequent_item))[0]\n",
    "supported_list = [[item for item in tran if item in supported_items] for tran in transactions]\n",
    "\n",
    "\n",
    "horizontally_sorted_trans = [sorted(tran, key=lambda x: (counter[x], x), reverse=True) for tran in supported_list]\n",
    "# vertical sort happens by the sum of the values of each transaction\n",
    "tran_sum = [sum([counter[item] for item in tran]) for tran in horizontally_sorted_trans]\n",
    "\n",
    "combined_data = list(zip(tran_sum, horizontally_sorted_trans))\n",
    "sorted_data = sorted(combined_data, reverse=True)\n",
    "sorted_values, sorted_transactions = zip(*sorted_data)\n",
    "\n",
    "pprint(sorted_transactions)\n",
    "\n",
    "tree = FPTree()\n",
    "for tran in sorted_transactions:\n",
    "    tree.add_tran(tran)\n",
    "tree.print_tree()\n",
    "tree.mine(6)"
   ],
   "metadata": {
    "collapsed": false,
    "ExecuteTime": {
     "end_time": "2023-08-12T15:16:20.220865200Z",
     "start_time": "2023-08-12T15:16:20.200328500Z"
    }
   },
   "id": "1a2de4bf6236b58f"
  },
  {
   "cell_type": "code",
   "execution_count": 20,
   "outputs": [
    {
     "name": "stdout",
     "output_type": "stream",
     "text": [
      "(['Yes', 'False', 'Normal', 'Mild'],\n",
      " ['Yes', 'False', 'High', 'Mild'],\n",
      " ['Yes', 'Normal', 'True', 'Mild'],\n",
      " ['Yes', 'High', 'True', 'Mild'],\n",
      " ['Yes', 'False', 'Normal'],\n",
      " ['Yes', 'False', 'Normal'],\n",
      " ['Yes', 'False', 'Normal'],\n",
      " ['Yes', 'False', 'High'],\n",
      " ['Yes', 'Normal', 'True'],\n",
      " ['False', 'High', 'Mild'],\n",
      " ['High', 'True', 'Mild'],\n",
      " ['False', 'High'],\n",
      " ['Normal', 'True'],\n",
      " ['High', 'True'])\n"
     ]
    }
   ],
   "source": [
    "pprint(sorted_transactions)"
   ],
   "metadata": {
    "collapsed": false,
    "ExecuteTime": {
     "end_time": "2023-08-12T14:26:52.668835Z",
     "start_time": "2023-08-12T14:26:52.652833700Z"
    }
   },
   "id": "304253105cdb22f"
  },
  {
   "cell_type": "code",
   "execution_count": null,
   "outputs": [],
   "source": [],
   "metadata": {
    "collapsed": false
   },
   "id": "8f81d758da0524a7"
  }
 ],
 "metadata": {
  "kernelspec": {
   "display_name": "Python 3",
   "language": "python",
   "name": "python3"
  },
  "language_info": {
   "codemirror_mode": {
    "name": "ipython",
    "version": 2
   },
   "file_extension": ".py",
   "mimetype": "text/x-python",
   "name": "python",
   "nbconvert_exporter": "python",
   "pygments_lexer": "ipython2",
   "version": "2.7.6"
  }
 },
 "nbformat": 4,
 "nbformat_minor": 5
}
